{
 "cells": [
  {
   "cell_type": "markdown",
   "id": "f4d921b6-d381-4e85-b0f7-e72291098f33",
   "metadata": {
    "tags": [],
    "pycharm": {
     "name": "#%% md\n"
    }
   },
   "source": [
    "### Preliminaries"
   ]
  },
  {
   "cell_type": "code",
   "execution_count": 1,
   "id": "9ffb48d1-0f1d-4a07-969d-e2d543a658e7",
   "metadata": {
    "pycharm": {
     "name": "#%%\n"
    }
   },
   "outputs": [
    {
     "name": "stdout",
     "output_type": "stream",
     "text": [
      "CUDA is available!\n"
     ]
    }
   ],
   "source": [
    "# import libraries\n",
    "import torch \n",
    "import numpy as np\n",
    "from torch import nn \n",
    "from torch import optim\n",
    "from torchvision import datasets, transforms \n",
    "from torch.utils.data import random_split, DataLoader\n",
    "# Check cuda availbility \n",
    "print('CUDA is available!') if  torch.cuda.is_available() else print('No cuda')\n",
    "# assign cuda to device\n",
    "device = torch.device('cuda')\n",
    "import matplotlib.pyplot as plt\n",
    "# %matplotlib inline\n",
    "\n",
    "import os\n",
    "os.environ[\"KMP_DUPLICATE_LIB_OK\"]=\"TRUE\"\n"
   ]
  },
  {
   "cell_type": "markdown",
   "id": "4d89e67d-58e3-4f78-8663-f892fdce5b5a",
   "metadata": {
    "tags": [],
    "pycharm": {
     "name": "#%% md\n"
    }
   },
   "source": [
    "### RNN Example"
   ]
  },
  {
   "cell_type": "markdown",
   "id": "42521497-14a8-4692-b067-7460c658e6a0",
   "metadata": {
    "pycharm": {
     "name": "#%% md\n"
    }
   },
   "source": [
    "#### Generate simple time series data"
   ]
  },
  {
   "cell_type": "code",
   "execution_count": 2,
   "id": "2ad26b73-b9ea-4641-9fc4-405059324420",
   "metadata": {
    "pycharm": {
     "name": "#%%\n"
    }
   },
   "outputs": [
    {
     "data": {
      "image/png": "[encoded data removed]",
      "text/plain": [
       "<Figure size 720x1080 with 1 Axes>"
      ]
     },
     "metadata": {
      "needs_background": "light"
     },
     "output_type": "display_data"
    }
   ],
   "source": [
    "seq_length = 20\n",
    "time_steps = np.linspace(0, np.pi, seq_length +1) # creating time steps in x axis\n",
    "data = np.sin(time_steps) # creating data from time steps\n",
    "data = data.reshape(-1,1)\n",
    "\n",
    "# construct futur prediction task \n",
    "\n",
    "# all data except last point\n",
    "x = data[:-1]\n",
    "# all but first point\n",
    "y = data[1:]\n",
    "\n",
    "plt.figure(figsize=(10,15))\n",
    "plt.plot(time_steps[1:], x, 'r.', label = 'Input:x')\n",
    "plt.plot(time_steps[1:], y, 'b.', label = 'Output:y')\n",
    "\n",
    "plt.legend()\n",
    "plt.show()"
   ]
  },
  {
   "cell_type": "markdown",
   "id": "7af66a5b-eff6-4df3-94e4-23d731d89ebf",
   "metadata": {
    "pycharm": {
     "name": "#%% md\n"
    }
   },
   "source": [
    "#### Construct the RNN"
   ]
  },
  {
   "cell_type": "code",
   "execution_count": 3,
   "id": "6f63ca9c-373d-4f62-9435-19908ff5fbed",
   "metadata": {
    "pycharm": {
     "name": "#%%\n"
    }
   },
   "outputs": [],
   "source": [
    "class RNN(nn.Module):\n",
    "    def __init__(self, input_size, hidden_dim, output_size, n_layers):\n",
    "        super().__init__()\n",
    "        \n",
    "        self.in_size = input_size \n",
    "        self.hid_dim = hidden_dim \n",
    "        self.out_size = output_size\n",
    "        self.n_layer = n_layers\n",
    "        \n",
    "        # define simple RNN \n",
    "        # define the paramters accordingly\n",
    "        # batch first means the first dimensions should be batch size\n",
    "        self.rnn = nn.RNN(self.in_size, self.hid_dim, self.n_layer, batch_first=True) \n",
    "        \n",
    "        # given the output from rnn, we pass to fc \n",
    "        self.fc = nn.Linear(self.hid_dim, self.out_size)\n",
    "        \n",
    "    def forward(self, x):\n",
    "\n",
    "        # input shape to RNN: x (batch_size, seq_length, input_size)\n",
    "        # hidden_dim shape : hid (n_layers, batch_size, hid_dim)\n",
    "        # output shape from RNN: out (batch_size, seq_length, hid_dim)\n",
    "\n",
    "        x = x.view(x.size(0), -1, self.in_size)\n",
    "        \n",
    "        rnn_out, rnn_hid = self.rnn(x)\n",
    "\n",
    "        # 1- reshape the output to be rnn_out.view(batch_size*seq_length, hidden_dim) \n",
    "        # 2- or just take the last time step in the rnn: rnn_out[:, -1, :]\n",
    "\n",
    "        # get final out by reshaping \n",
    "        final_out =  self.fc(rnn_out.view(-1, self.hid_dim))\n",
    "\n",
    "        # get final out by picking the last hid dim\n",
    "        \n",
    "        return final_out, rnn_hid \n",
    "\n"
   ]
  },
  {
   "cell_type": "markdown",
   "id": "ca30e05c-c12f-43e6-9251-1c83dd676efc",
   "metadata": {
    "pycharm": {
     "name": "#%% md\n"
    }
   },
   "source": [
    "#### test input and output dim from RNN"
   ]
  },
  {
   "cell_type": "code",
   "execution_count": 4,
   "id": "c9c03e55-753a-48ac-8721-814f17970e4d",
   "metadata": {
    "pycharm": {
     "name": "#%%\n"
    }
   },
   "outputs": [
    {
     "name": "stdout",
     "output_type": "stream",
     "text": [
      "Input size: torch.Size([1, 21, 1])\n",
      "Output size: torch.Size([21, 1])\n",
      "Hidden size: torch.Size([2, 1, 10])\n"
     ]
    }
   ],
   "source": [
    "# create object model from RNN class \n",
    "input_size =1\n",
    "seq_length = 20\n",
    "output_size = 1\n",
    "hidden_dim = 10\n",
    "n_layers = 2\n",
    "test_rnn = RNN(input_size, hidden_dim, output_size,n_layers)\n",
    "\n",
    "# convert data to tensors \n",
    "# make it (1, seq_length, input_size), where batch size is 1 \n",
    "# make sure to make the input float\n",
    "test_data = torch.tensor(data).unsqueeze(0).float()\n",
    "\n",
    "print(f'Input size: {test_data.size()}')\n",
    "\n",
    "# forward pass \n",
    "test_out_v1, hid_dim = test_rnn(test_data)\n",
    "      \n",
    "print(f'Output size: {test_out_v1.size()}') # (batch_size, sequence_length, output_size)\n",
    "print(f'Hidden size: {hid_dim.size()}')  # ( n_layers, batch_size, hidden_dim)\n"
   ]
  },
  {
   "cell_type": "markdown",
   "id": "c3abbfe7-537f-4d0a-a48a-180fa1ee5afe",
   "metadata": {
    "tags": [],
    "pycharm": {
     "name": "#%% md\n"
    }
   },
   "source": [
    "#### Training the RNN network"
   ]
  },
  {
   "cell_type": "code",
   "execution_count": 5,
   "id": "bc109d18-0524-43c1-a997-a82fd0c7263c",
   "metadata": {
    "pycharm": {
     "name": "#%%\n"
    }
   },
   "outputs": [],
   "source": [
    "def train_rnn(model, n_steps, print_every):\n",
    "    \n",
    "    for batch_i, step in enumerate(range(n_steps)):\n",
    "        # defining the training data \n",
    "        time_steps = np.linspace(step * np.pi, (step+1)*np.pi, seq_length + 1)\n",
    "        data = np.sin(time_steps)\n",
    "        data.resize((seq_length + 1, 1)) # input_size=1\n",
    "        \n",
    "        # predicting next time step task\n",
    "        x = data[:-1]\n",
    "        y = data[1:]\n",
    "        \n",
    "        # convert data into Tensors\n",
    "        x_tensor = torch.Tensor(x).unsqueeze(0).float() # unsqueeze gives a 1, batch_size dimension\n",
    "        y_tensor = torch.Tensor(y)\n",
    "\n",
    "        # outputs from the rnn\n",
    "        prediction, hidden = model(x_tensor)\n",
    "\n",
    "        # calculate the loss\n",
    "        loss = criterion(prediction, y_tensor)\n",
    "        # zero gradients\n",
    "        optimizer.zero_grad()\n",
    "        # perform backprop and update weights\n",
    "        loss.backward()\n",
    "        optimizer.step()\n",
    "\n",
    "        # display loss and predictions\n",
    "        if batch_i%print_every == 0:        \n",
    "            print('Loss: ', loss.item())\n",
    "            plt.plot(time_steps[1:], x, 'r.', label='Ground Truth') # input\n",
    "            plt.plot(time_steps[1:], prediction.detach().numpy().flatten(), 'b.', label= 'Prediction') # predictions\n",
    "            plt.legend()\n",
    "            plt.show()\n",
    "    \n",
    "    return model"
   ]
  },
  {
   "cell_type": "markdown",
   "id": "7729a074-3ebe-41dc-9b3f-905c736a4962",
   "metadata": {
    "pycharm": {
     "name": "#%% md\n"
    }
   },
   "source": [
    "#### construct the rnn model"
   ]
  },
  {
   "cell_type": "code",
   "execution_count": 6,
   "id": "799acc49-e35a-4624-aebb-d130d3b8d628",
   "metadata": {
    "pycharm": {
     "name": "#%%\n"
    }
   },
   "outputs": [],
   "source": [
    "# create object model from RNN class \n",
    "input_size =1\n",
    "seq_length = 20\n",
    "output_size = 1\n",
    "hidden_dim = 16\n",
    "n_layers = 1\n",
    "my_rnn = RNN(input_size, hidden_dim, output_size,n_layers)"
   ]
  },
  {
   "cell_type": "markdown",
   "id": "13a42913-e572-49d1-971f-635efdd20a67",
   "metadata": {
    "pycharm": {
     "name": "#%% md\n"
    }
   },
   "source": [
    "#### Define optmizer and loss"
   ]
  },
  {
   "cell_type": "code",
   "execution_count": 7,
   "id": "b6efb405-52d1-4a10-9c22-d6bd11914c7c",
   "metadata": {
    "pycharm": {
     "name": "#%%\n"
    }
   },
   "outputs": [],
   "source": [
    "criterion = nn.MSELoss()\n",
    "optimizer = torch.optim.Adam(my_rnn.parameters(), lr= 0.01)"
   ]
  },
  {
   "cell_type": "markdown",
   "id": "da77a196-94f9-4bc4-9f1a-6da7ba67b214",
   "metadata": {
    "pycharm": {
     "name": "#%% md\n"
    }
   },
   "source": [
    "#### Run the train loop"
   ]
  },
  {
   "cell_type": "code",
   "execution_count": 8,
   "id": "695e0b90-4fb0-44a9-a86f-d1b05fbd550b",
   "metadata": {
    "pycharm": {
     "name": "#%%\n"
    }
   },
   "outputs": [
    {
     "name": "stdout",
     "output_type": "stream",
     "text": [
      "Loss:  0.7428628206253052\n"
     ]
    },
    {
     "data": {
      "image/png": "[encoded data removed]",
      "text/plain": [
       "<Figure size 432x288 with 1 Axes>"
      ]
     },
     "metadata": {
      "needs_background": "light"
     },
     "output_type": "display_data"
    },
    {
     "name": "stdout",
     "output_type": "stream",
     "text": [
      "Loss:  0.04001283273100853\n"
     ]
    },
    {
     "data": {
      "image/png": "[encoded data removed]",
      "text/plain": [
       "<Figure size 432x288 with 1 Axes>"
      ]
     },
     "metadata": {
      "needs_background": "light"
     },
     "output_type": "display_data"
    },
    {
     "name": "stdout",
     "output_type": "stream",
     "text": [
      "Loss:  0.01421145349740982\n"
     ]
    },
    {
     "data": {
      "image/png": "[encoded data removed]",
      "text/plain": [
       "<Figure size 432x288 with 1 Axes>"
      ]
     },
     "metadata": {
      "needs_background": "light"
     },
     "output_type": "display_data"
    },
    {
     "name": "stdout",
     "output_type": "stream",
     "text": [
      "Loss:  0.010333009995520115\n"
     ]
    },
    {
     "data": {
      "image/png": "[encoded data removed]",
      "text/plain": [
       "<Figure size 432x288 with 1 Axes>"
      ]
     },
     "metadata": {
      "needs_background": "light"
     },
     "output_type": "display_data"
    },
    {
     "name": "stdout",
     "output_type": "stream",
     "text": [
      "Loss:  0.004471317864954472\n"
     ]
    },
    {
     "data": {
      "image/png": "[encoded data removed]",
      "text/plain": [
       "<Figure size 432x288 with 1 Axes>"
      ]
     },
     "metadata": {
      "needs_background": "light"
     },
     "output_type": "display_data"
    }
   ],
   "source": [
    "# define params\n",
    "n_steps = 75\n",
    "print_every = 15\n",
    "\n",
    "trained_model = train_rnn(my_rnn, n_steps, print_every)"
   ]
  },
  {
   "cell_type": "code",
   "execution_count": null,
   "id": "e0277739-98d4-4543-a00b-a607916de432",
   "metadata": {
    "pycharm": {
     "name": "#%%\n"
    }
   },
   "outputs": [],
   "source": []
  }
 ],
 "metadata": {
  "kernelspec": {
   "display_name": "Python 3",
   "language": "python",
   "name": "python3"
  },
  "language_info": {
   "codemirror_mode": {
    "name": "ipython",
    "version": 3
   },
   "file_extension": ".py",
   "mimetype": "text/x-python",
   "name": "python",
   "nbconvert_exporter": "python",
   "pygments_lexer": "ipython3",
   "version": "3.8.5"
  }
 },
 "nbformat": 4,
 "nbformat_minor": 5
}